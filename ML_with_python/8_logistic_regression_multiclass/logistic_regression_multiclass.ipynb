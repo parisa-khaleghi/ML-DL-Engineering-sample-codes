{
 "cells": [
  {
   "cell_type": "code",
   "execution_count": null,
   "metadata": {},
   "outputs": [],
   "source": [
    "import sys\n",
    "import datetime\n",
    "\n",
    "sys.path.append('/Users/parisakhaleghi/Desktop/Coding/assist_projects/python/git_commit')\n",
    "\n",
    "from git_commit import commit\n",
    "\n",
    "commit( '/Users/parisakhaleghi/Desktop/Coding/ML-Engineering-sample-codes',\n",
    "        '/Users/parisakhaleghi/Desktop/Coding/ML-Engineering-sample-codes/ML_with_python/8_logistic_regression_multiclass/logistic_regression_multiclass.ipynb',\n",
    "        'init: create file for multiclass classification',\n",
    "        datetime.datetime.now().year,\n",
    "        datetime.datetime.now().month,\n",
    "        datetime.datetime.now().day-8,\n",
    "        datetime.datetime.now().hour,\n",
    "        datetime.datetime.now().minute\n",
    "        )"
   ]
  }
 ],
 "metadata": {
  "language_info": {
   "name": "python"
  }
 },
 "nbformat": 4,
 "nbformat_minor": 2
}
