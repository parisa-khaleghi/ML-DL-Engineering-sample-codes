{
 "cells": [
  {
   "cell_type": "code",
   "execution_count": 8,
   "metadata": {},
   "outputs": [],
   "source": [
    "import sys\n",
    "import datetime\n",
    "\n",
    "sys.path.append('/Users/parisakhaleghi/Desktop/Coding/assist_projects/python/git_commit')\n",
    "\n",
    "from git_commit import commit\n",
    "\n",
    "# commit( '/Users/parisakhaleghi/Desktop/Coding/ML-Engineering-sample-codes',\n",
    "#         '/Users/parisakhaleghi/Desktop/Coding/ML-Engineering-sample-codes/ML_with_python/5_dummy_variables_&_OneHotEncoding/dummy_variables_&_OneHotEncoding.ipynb',\n",
    "#         'update: test function for commit',\n",
    "#         datetime.datetime.now().year,\n",
    "#         datetime.datetime.now().month-1,\n",
    "#         datetime.datetime.now().day,\n",
    "#         datetime.datetime.now().hour,\n",
    "#         datetime.datetime.now().minute\n",
    "#         )"
   ]
  },
  {
   "cell_type": "code",
   "execution_count": null,
   "metadata": {},
   "outputs": [],
   "source": []
  }
 ],
 "metadata": {
  "kernelspec": {
   "display_name": "Python 3 (ipykernel)",
   "language": "python",
   "name": "python3"
  },
  "language_info": {
   "codemirror_mode": {
    "name": "ipython",
    "version": 3
   },
   "file_extension": ".py",
   "mimetype": "text/x-python",
   "name": "python",
   "nbconvert_exporter": "python",
   "pygments_lexer": "ipython3",
   "version": "3.11.5"
  }
 },
 "nbformat": 4,
 "nbformat_minor": 2
}
