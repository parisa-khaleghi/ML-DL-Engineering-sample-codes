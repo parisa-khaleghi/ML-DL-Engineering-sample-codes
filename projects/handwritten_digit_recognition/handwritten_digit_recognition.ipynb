{
 "cells": [
  {
   "cell_type": "code",
   "execution_count": 215,
   "metadata": {},
   "outputs": [],
   "source": [
    "import sys\n",
    "import datetime\n",
    "\n",
    "sys.path.append('/Users/parisakhaleghi/Desktop/Coding/assist_projects/python/git_commit')\n",
    "\n",
    "from git_commit import commit\n",
    "\n",
    "commit( '/Users/parisakhaleghi/Desktop/Coding/ML-Engineering-sample-codes',\n",
    "        '/Users/parisakhaleghi/Desktop/Coding/ML-Engineering-sample-codes/projects/handwritten_digit_recognition/handwritten_digit_recognition.ipynb',\n",
    "        'update: load digits and check what is inside',\n",
    "        datetime.datetime.now().year,\n",
    "        datetime.datetime.now().month,\n",
    "        datetime.datetime.now().day-8,\n",
    "        datetime.datetime.now().hour,\n",
    "        datetime.datetime.now().minute\n",
    "        )"
   ]
  },
  {
   "cell_type": "code",
   "execution_count": 216,
   "metadata": {},
   "outputs": [],
   "source": [
    "%matplotlib inline\n",
    "import matplotlib.pyplot as plt\n",
    "\n",
    "from sklearn.datasets import load_digits"
   ]
  },
  {
   "cell_type": "code",
   "execution_count": 217,
   "metadata": {},
   "outputs": [],
   "source": [
    "digits = load_digits()"
   ]
  },
  {
   "cell_type": "code",
   "execution_count": 219,
   "metadata": {},
   "outputs": [
    {
     "data": {
      "text/plain": [
       "['DESCR', 'data', 'feature_names', 'frame', 'images', 'target', 'target_names']"
      ]
     },
     "execution_count": 219,
     "metadata": {},
     "output_type": "execute_result"
    }
   ],
   "source": [
    "dir(digits)"
   ]
  }
 ],
 "metadata": {
  "kernelspec": {
   "display_name": "Python 3 (ipykernel)",
   "language": "python",
   "name": "python3"
  },
  "language_info": {
   "codemirror_mode": {
    "name": "ipython",
    "version": 3
   },
   "file_extension": ".py",
   "mimetype": "text/x-python",
   "name": "python",
   "nbconvert_exporter": "python",
   "pygments_lexer": "ipython3",
   "version": "3.11.5"
  }
 },
 "nbformat": 4,
 "nbformat_minor": 2
}
