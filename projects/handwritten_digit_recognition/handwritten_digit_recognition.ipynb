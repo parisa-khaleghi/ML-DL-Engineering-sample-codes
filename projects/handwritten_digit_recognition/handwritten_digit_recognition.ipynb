{
 "cells": [
  {
   "cell_type": "code",
   "execution_count": 209,
   "metadata": {},
   "outputs": [
    {
     "ename": "FileNotFoundError",
     "evalue": "[Errno 2] No such file or directory: 'ML_with_python/projects/handwritten_digit_recognition.ipynb'",
     "output_type": "error",
     "traceback": [
      "\u001b[0;31m---------------------------------------------------------------------------\u001b[0m",
      "\u001b[0;31mFileNotFoundError\u001b[0m                         Traceback (most recent call last)",
      "\u001b[1;32m/Users/parisakhaleghi/Desktop/Coding/ML-Engineering-sample-codes/Projects/handwritten_digit_recognition/handwritten_digit_recognition.ipynb Cell 1\u001b[0m line \u001b[0;36m8\n\u001b[1;32m      <a href='vscode-notebook-cell:/Users/parisakhaleghi/Desktop/Coding/ML-Engineering-sample-codes/Projects/handwritten_digit_recognition/handwritten_digit_recognition.ipynb#W0sZmlsZQ%3D%3D?line=3'>4</a>\u001b[0m sys\u001b[39m.\u001b[39mpath\u001b[39m.\u001b[39mappend(\u001b[39m'\u001b[39m\u001b[39m/Users/parisakhaleghi/Desktop/Coding/assist_projects/python/git_commit\u001b[39m\u001b[39m'\u001b[39m)\n\u001b[1;32m      <a href='vscode-notebook-cell:/Users/parisakhaleghi/Desktop/Coding/ML-Engineering-sample-codes/Projects/handwritten_digit_recognition/handwritten_digit_recognition.ipynb#W0sZmlsZQ%3D%3D?line=5'>6</a>\u001b[0m \u001b[39mfrom\u001b[39;00m \u001b[39mgit_commit\u001b[39;00m \u001b[39mimport\u001b[39;00m commit\n\u001b[0;32m----> <a href='vscode-notebook-cell:/Users/parisakhaleghi/Desktop/Coding/ML-Engineering-sample-codes/Projects/handwritten_digit_recognition/handwritten_digit_recognition.ipynb#W0sZmlsZQ%3D%3D?line=7'>8</a>\u001b[0m commit( \u001b[39m'\u001b[39m\u001b[39m/Users/parisakhaleghi/Desktop/Coding/ML-Engineering-sample-codes\u001b[39m\u001b[39m'\u001b[39m,\n\u001b[1;32m      <a href='vscode-notebook-cell:/Users/parisakhaleghi/Desktop/Coding/ML-Engineering-sample-codes/Projects/handwritten_digit_recognition/handwritten_digit_recognition.ipynb#W0sZmlsZQ%3D%3D?line=8'>9</a>\u001b[0m         \u001b[39m'\u001b[39m\u001b[39m/Users/parisakhaleghi/Desktop/Coding/ML-Engineering-sample-codes/ML_with_python/projects/handwritten_digit_recognition.ipynb\u001b[39m\u001b[39m'\u001b[39m,\n\u001b[1;32m     <a href='vscode-notebook-cell:/Users/parisakhaleghi/Desktop/Coding/ML-Engineering-sample-codes/Projects/handwritten_digit_recognition/handwritten_digit_recognition.ipynb#W0sZmlsZQ%3D%3D?line=9'>10</a>\u001b[0m         \u001b[39m'\u001b[39m\u001b[39minit: create file for multiclass classification\u001b[39m\u001b[39m'\u001b[39m,\n\u001b[1;32m     <a href='vscode-notebook-cell:/Users/parisakhaleghi/Desktop/Coding/ML-Engineering-sample-codes/Projects/handwritten_digit_recognition/handwritten_digit_recognition.ipynb#W0sZmlsZQ%3D%3D?line=10'>11</a>\u001b[0m         datetime\u001b[39m.\u001b[39mdatetime\u001b[39m.\u001b[39mnow()\u001b[39m.\u001b[39myear,\n\u001b[1;32m     <a href='vscode-notebook-cell:/Users/parisakhaleghi/Desktop/Coding/ML-Engineering-sample-codes/Projects/handwritten_digit_recognition/handwritten_digit_recognition.ipynb#W0sZmlsZQ%3D%3D?line=11'>12</a>\u001b[0m         datetime\u001b[39m.\u001b[39mdatetime\u001b[39m.\u001b[39mnow()\u001b[39m.\u001b[39mmonth,\n\u001b[1;32m     <a href='vscode-notebook-cell:/Users/parisakhaleghi/Desktop/Coding/ML-Engineering-sample-codes/Projects/handwritten_digit_recognition/handwritten_digit_recognition.ipynb#W0sZmlsZQ%3D%3D?line=12'>13</a>\u001b[0m         datetime\u001b[39m.\u001b[39mdatetime\u001b[39m.\u001b[39mnow()\u001b[39m.\u001b[39mday\u001b[39m-\u001b[39m\u001b[39m8\u001b[39m,\n\u001b[1;32m     <a href='vscode-notebook-cell:/Users/parisakhaleghi/Desktop/Coding/ML-Engineering-sample-codes/Projects/handwritten_digit_recognition/handwritten_digit_recognition.ipynb#W0sZmlsZQ%3D%3D?line=13'>14</a>\u001b[0m         datetime\u001b[39m.\u001b[39mdatetime\u001b[39m.\u001b[39mnow()\u001b[39m.\u001b[39mhour,\n\u001b[1;32m     <a href='vscode-notebook-cell:/Users/parisakhaleghi/Desktop/Coding/ML-Engineering-sample-codes/Projects/handwritten_digit_recognition/handwritten_digit_recognition.ipynb#W0sZmlsZQ%3D%3D?line=14'>15</a>\u001b[0m         datetime\u001b[39m.\u001b[39mdatetime\u001b[39m.\u001b[39mnow()\u001b[39m.\u001b[39mminute\n\u001b[1;32m     <a href='vscode-notebook-cell:/Users/parisakhaleghi/Desktop/Coding/ML-Engineering-sample-codes/Projects/handwritten_digit_recognition/handwritten_digit_recognition.ipynb#W0sZmlsZQ%3D%3D?line=15'>16</a>\u001b[0m         )\n",
      "File \u001b[0;32m~/Desktop/Coding/assist_projects/python/git_commit/git_commit.py:8\u001b[0m, in \u001b[0;36mcommit\u001b[0;34m(project_path, file_path, message, year, month, day, hour, minute)\u001b[0m\n\u001b[1;32m      6\u001b[0m \u001b[39mdef\u001b[39;00m \u001b[39mcommit\u001b[39m(project_path, file_path, message, year, month, day, hour, minute):\n\u001b[1;32m      7\u001b[0m     r \u001b[39m=\u001b[39m repo\u001b[39m.\u001b[39mRepo(project_path, search_parent_directories\u001b[39m=\u001b[39m\u001b[39mTrue\u001b[39;00m)\n\u001b[0;32m----> 8\u001b[0m     r\u001b[39m.\u001b[39mindex\u001b[39m.\u001b[39madd(file_path)\n\u001b[1;32m      9\u001b[0m     r\u001b[39m.\u001b[39mindex\u001b[39m.\u001b[39mcommit(message, commit_date\u001b[39m=\u001b[39mdatetime\u001b[39m.\u001b[39mdatetime(year, month, day, hour, minute, tzinfo\u001b[39m=\u001b[39mdateutil\u001b[39m.\u001b[39mtz\u001b[39m.\u001b[39mtzoffset(\u001b[39mu\u001b[39m\u001b[39m'\u001b[39m\u001b[39mTRT\u001b[39m\u001b[39m'\u001b[39m, \u001b[39m3\u001b[39m\u001b[39m*\u001b[39m\u001b[39m3600\u001b[39m)))\n\u001b[1;32m     10\u001b[0m     origin \u001b[39m=\u001b[39m r\u001b[39m.\u001b[39mremotes[\u001b[39m0\u001b[39m]\n",
      "File \u001b[0;32m~/anaconda3/lib/python3.11/site-packages/git/index/base.py:809\u001b[0m, in \u001b[0;36mIndexFile.add\u001b[0;34m(self, items, force, fprogress, path_rewriter, write, write_extension_data)\u001b[0m\n\u001b[1;32m    805\u001b[0m \u001b[39m# This code needs a working tree, therefore we try not to run it unless required.\u001b[39;00m\n\u001b[1;32m    806\u001b[0m \u001b[39m# That way, we are OK on a bare repository as well.\u001b[39;00m\n\u001b[1;32m    807\u001b[0m \u001b[39m# If there are no paths, the rewriter has nothing to do either\u001b[39;00m\n\u001b[1;32m    808\u001b[0m \u001b[39mif\u001b[39;00m paths:\n\u001b[0;32m--> 809\u001b[0m     entries_added\u001b[39m.\u001b[39mextend(\u001b[39mself\u001b[39m\u001b[39m.\u001b[39m_entries_for_paths(paths, path_rewriter, fprogress, entries))\n\u001b[1;32m    811\u001b[0m \u001b[39m# HANDLE ENTRIES\u001b[39;00m\n\u001b[1;32m    812\u001b[0m \u001b[39mif\u001b[39;00m entries:\n",
      "File \u001b[0;32m~/anaconda3/lib/python3.11/site-packages/git/util.py:144\u001b[0m, in \u001b[0;36munbare_repo.<locals>.wrapper\u001b[0;34m(self, *args, **kwargs)\u001b[0m\n\u001b[1;32m    142\u001b[0m     \u001b[39mraise\u001b[39;00m InvalidGitRepositoryError(\u001b[39m\"\u001b[39m\u001b[39mMethod \u001b[39m\u001b[39m'\u001b[39m\u001b[39m%s\u001b[39;00m\u001b[39m'\u001b[39m\u001b[39m cannot operate on bare repositories\u001b[39m\u001b[39m\"\u001b[39m \u001b[39m%\u001b[39m func\u001b[39m.\u001b[39m\u001b[39m__name__\u001b[39m)\n\u001b[1;32m    143\u001b[0m \u001b[39m# END bare method\u001b[39;00m\n\u001b[0;32m--> 144\u001b[0m \u001b[39mreturn\u001b[39;00m func(\u001b[39mself\u001b[39m, \u001b[39m*\u001b[39margs, \u001b[39m*\u001b[39m\u001b[39m*\u001b[39mkwargs)\n",
      "File \u001b[0;32m~/anaconda3/lib/python3.11/site-packages/git/index/util.py:119\u001b[0m, in \u001b[0;36mgit_working_dir.<locals>.set_git_working_dir\u001b[0;34m(self, *args, **kwargs)\u001b[0m\n\u001b[1;32m    117\u001b[0m os\u001b[39m.\u001b[39mchdir(\u001b[39mstr\u001b[39m(\u001b[39mself\u001b[39m\u001b[39m.\u001b[39mrepo\u001b[39m.\u001b[39mworking_tree_dir))\n\u001b[1;32m    118\u001b[0m \u001b[39mtry\u001b[39;00m:\n\u001b[0;32m--> 119\u001b[0m     \u001b[39mreturn\u001b[39;00m func(\u001b[39mself\u001b[39m, \u001b[39m*\u001b[39margs, \u001b[39m*\u001b[39m\u001b[39m*\u001b[39mkwargs)\n\u001b[1;32m    120\u001b[0m \u001b[39mfinally\u001b[39;00m:\n\u001b[1;32m    121\u001b[0m     os\u001b[39m.\u001b[39mchdir(cur_wd)\n",
      "File \u001b[0;32m~/anaconda3/lib/python3.11/site-packages/git/index/base.py:688\u001b[0m, in \u001b[0;36mIndexFile._entries_for_paths\u001b[0;34m(self, paths, path_rewriter, fprogress, entries)\u001b[0m\n\u001b[1;32m    686\u001b[0m \u001b[39massert\u001b[39;00m \u001b[39mlen\u001b[39m(entries_added) \u001b[39m==\u001b[39m \u001b[39m0\u001b[39m\n\u001b[1;32m    687\u001b[0m \u001b[39mfor\u001b[39;00m filepath \u001b[39min\u001b[39;00m \u001b[39mself\u001b[39m\u001b[39m.\u001b[39m_iter_expand_paths(paths):\n\u001b[0;32m--> 688\u001b[0m     entries_added\u001b[39m.\u001b[39mappend(\u001b[39mself\u001b[39m\u001b[39m.\u001b[39m_store_path(filepath, fprogress))\n\u001b[1;32m    689\u001b[0m \u001b[39m# END for each filepath\u001b[39;00m\n\u001b[1;32m    690\u001b[0m \u001b[39m# END path handling\u001b[39;00m\n\u001b[1;32m    691\u001b[0m \u001b[39mreturn\u001b[39;00m entries_added\n",
      "File \u001b[0;32m~/anaconda3/lib/python3.11/site-packages/git/index/base.py:633\u001b[0m, in \u001b[0;36mIndexFile._store_path\u001b[0;34m(self, filepath, fprogress)\u001b[0m\n\u001b[1;32m    630\u001b[0m \u001b[39mdef\u001b[39;00m \u001b[39m_store_path\u001b[39m(\u001b[39mself\u001b[39m, filepath: PathLike, fprogress: Callable) \u001b[39m-\u001b[39m\u001b[39m>\u001b[39m BaseIndexEntry:\n\u001b[1;32m    631\u001b[0m \u001b[39m    \u001b[39m\u001b[39m\"\"\"Store file at filepath in the database and return the base index entry\u001b[39;00m\n\u001b[1;32m    632\u001b[0m \u001b[39m    Needs the git_working_dir decorator active ! This must be assured in the calling code\"\"\"\u001b[39;00m\n\u001b[0;32m--> 633\u001b[0m     st \u001b[39m=\u001b[39m os\u001b[39m.\u001b[39mlstat(filepath)  \u001b[39m# handles non-symlinks as well\u001b[39;00m\n\u001b[1;32m    634\u001b[0m     \u001b[39mif\u001b[39;00m S_ISLNK(st\u001b[39m.\u001b[39mst_mode):\n\u001b[1;32m    635\u001b[0m         \u001b[39m# in PY3, readlink is string, but we need bytes. In PY2, it's just OS encoded bytes, we assume UTF-8\u001b[39;00m\n\u001b[1;32m    636\u001b[0m         open_stream: Callable[[], BinaryIO] \u001b[39m=\u001b[39m \u001b[39mlambda\u001b[39;00m: BytesIO(force_bytes(os\u001b[39m.\u001b[39mreadlink(filepath), encoding\u001b[39m=\u001b[39mdefenc))\n",
      "\u001b[0;31mFileNotFoundError\u001b[0m: [Errno 2] No such file or directory: 'ML_with_python/projects/handwritten_digit_recognition.ipynb'"
     ]
    }
   ],
   "source": [
    "import sys\n",
    "import datetime\n",
    "\n",
    "sys.path.append('/Users/parisakhaleghi/Desktop/Coding/assist_projects/python/git_commit')\n",
    "\n",
    "from git_commit import commit\n",
    "\n",
    "commit( '/Users/parisakhaleghi/Desktop/Coding/ML-Engineering-sample-codes',\n",
    "        '/Users/parisakhaleghi/Desktop/Coding/ML-Engineering-sample-codes/ML_with_python/projects/handwritten_digit_recognition.ipynb',\n",
    "        'init: create file for multiclass classification',\n",
    "        datetime.datetime.now().year,\n",
    "        datetime.datetime.now().month,\n",
    "        datetime.datetime.now().day-8,\n",
    "        datetime.datetime.now().hour,\n",
    "        datetime.datetime.now().minute\n",
    "        )"
   ]
  }
 ],
 "metadata": {
  "kernelspec": {
   "display_name": "Python 3 (ipykernel)",
   "language": "python",
   "name": "python3"
  },
  "language_info": {
   "codemirror_mode": {
    "name": "ipython",
    "version": 3
   },
   "file_extension": ".py",
   "mimetype": "text/x-python",
   "name": "python",
   "nbconvert_exporter": "python",
   "pygments_lexer": "ipython3",
   "version": "3.11.5"
  }
 },
 "nbformat": 4,
 "nbformat_minor": 2
}
