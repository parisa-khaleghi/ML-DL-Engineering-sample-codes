{
 "cells": [
  {
   "cell_type": "code",
   "execution_count": 211,
   "metadata": {},
   "outputs": [],
   "source": [
    "import sys\n",
    "import datetime\n",
    "\n",
    "sys.path.append('/Users/parisakhaleghi/Desktop/Coding/assist_projects/python/git_commit')\n",
    "\n",
    "from git_commit import commit\n",
    "\n",
    "commit( '/Users/parisakhaleghi/Desktop/Coding/ML-Engineering-sample-codes',\n",
    "        '/Users/parisakhaleghi/Desktop/Coding/ML-Engineering-sample-codes/projects/handwritten_digit_recognition/handwritten_digit_recognition.ipynb',\n",
    "        'init: create file for multiclass classification',\n",
    "        datetime.datetime.now().year,\n",
    "        datetime.datetime.now().month,\n",
    "        datetime.datetime.now().day-8,\n",
    "        datetime.datetime.now().hour,\n",
    "        datetime.datetime.now().minute\n",
    "        )"
   ]
  }
 ],
 "metadata": {
  "kernelspec": {
   "display_name": "Python 3 (ipykernel)",
   "language": "python",
   "name": "python3"
  },
  "language_info": {
   "codemirror_mode": {
    "name": "ipython",
    "version": 3
   },
   "file_extension": ".py",
   "mimetype": "text/x-python",
   "name": "python",
   "nbconvert_exporter": "python",
   "pygments_lexer": "ipython3",
   "version": "3.11.5"
  }
 },
 "nbformat": 4,
 "nbformat_minor": 2
}
